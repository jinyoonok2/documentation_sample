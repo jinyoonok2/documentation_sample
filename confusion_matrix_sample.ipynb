{
 "cells": [
  {
   "cell_type": "markdown",
   "metadata": {
    "id": "EGDwdGPJyQpL"
   },
   "source": [
    "# 0-1. Install Required Dependencies\n",
    "\n",
    "For this example, we are going to use PyTorch framework.\n",
    "Beforehand to use the libraries, we need to install the according libraries."
   ]
  },
  {
   "cell_type": "code",
   "execution_count": 1,
   "metadata": {
    "executionInfo": {
     "elapsed": 15962,
     "status": "ok",
     "timestamp": 1707959824677,
     "user": {
      "displayName": "JYK109",
      "userId": "13605447512408491813"
     },
     "user_tz": 300
    },
    "id": "o4Th6yiSyOFI"
   },
   "outputs": [],
   "source": [
    "!pip install torch torchvision -qq"
   ]
  },
  {
   "cell_type": "code",
   "execution_count": 2,
   "metadata": {
    "executionInfo": {
     "elapsed": 11508,
     "status": "ok",
     "timestamp": 1707959836181,
     "user": {
      "displayName": "JYK109",
      "userId": "13605447512408491813"
     },
     "user_tz": 300
    },
    "id": "G6c-dqbJyOtU"
   },
   "outputs": [],
   "source": [
    "!pip install matplotlib seaborn scikit-learn -qq"
   ]
  },
  {
   "cell_type": "markdown",
   "metadata": {
    "id": "_a_8hnCBwZPf"
   },
   "source": [
    "# 1-1. Loading and Preprocessing CIFAR-10 Dataset with PyTorch\n",
    "This code snippet is designed to load and preprocess the **CIFAR-10 dataset** for image classification tasks using PyTorch, a popular deep learning library.\n",
    "\n",
    "**Transform** variable defines a series of preprocessing steps applied to the images before they are fed into a neural network.\n",
    "\n",
    "**Training Set:** Used to train the machine learning model, allowing it to learn the patterns and features that distinguish between the different classes in the dataset.\n",
    "\n",
    "**Testing Set:** Used to evaluate the performance of the model on new, unseen data. This helps in assessing the model's generalization ability and ensures that we measure its performance on a dataset that wasn't used during training.\n",
    "\n",
    "**DataLoader** in PyTorch is a powerful utility that automates the process of loading the data, providing batches of images and their corresponding labels to the model during training or evaluation."
   ]
  },
  {
   "cell_type": "code",
   "execution_count": 3,
   "metadata": {
    "colab": {
     "base_uri": "https://localhost:8080/"
    },
    "executionInfo": {
     "elapsed": 22612,
     "status": "ok",
     "timestamp": 1707959858780,
     "user": {
      "displayName": "JYK109",
      "userId": "13605447512408491813"
     },
     "user_tz": 300
    },
    "id": "oazE_4JIr4v_",
    "outputId": "df161a2d-8cd3-4868-fbf0-6da298bef893"
   },
   "outputs": [
    {
     "name": "stdout",
     "output_type": "stream",
     "text": [
      "Downloading https://www.cs.toronto.edu/~kriz/cifar-10-python.tar.gz to ./data/cifar-10-python.tar.gz\n"
     ]
    },
    {
     "name": "stderr",
     "output_type": "stream",
     "text": [
      "100%|██████████| 170498071/170498071 [00:04<00:00, 42071145.25it/s]\n"
     ]
    },
    {
     "name": "stdout",
     "output_type": "stream",
     "text": [
      "Extracting ./data/cifar-10-python.tar.gz to ./data\n",
      "Files already downloaded and verified\n"
     ]
    }
   ],
   "source": [
    "import torch\n",
    "import torchvision\n",
    "import torchvision.transforms as transforms\n",
    "\n",
    "# Transformations for the input data\n",
    "transform = transforms.Compose([\n",
    "    transforms.Resize(256),\n",
    "    transforms.CenterCrop(224),\n",
    "    transforms.ToTensor(),\n",
    "    transforms.Normalize(mean=[0.485, 0.456, 0.406], std=[0.229, 0.224, 0.225]),\n",
    "])\n",
    "\n",
    "# Load CIFAR-10 dataset\n",
    "trainset = torchvision.datasets.CIFAR10(root='./data', train=True,\n",
    "                                        download=True, transform=transform)\n",
    "trainloader = torch.utils.data.DataLoader(trainset, batch_size=64,\n",
    "                                          shuffle=True)\n",
    "\n",
    "testset = torchvision.datasets.CIFAR10(root='./data', train=False,\n",
    "                                       download=True, transform=transform)\n",
    "testloader = torch.utils.data.DataLoader(testset, batch_size=64,\n",
    "                                         shuffle=False)\n"
   ]
  },
  {
   "cell_type": "markdown",
   "metadata": {
    "id": "niOZkCvM5XHI"
   },
   "source": [
    "# 1-2. Adapting a Pre-trained ResNet Model for CIFAR-10\n",
    "\n",
    "**resnet.fc.in_features:** Retrieves the number of input features from the final fully connected layer (fc) of the model. This is necessary because we need to replace the final layer to match the number of classes in our target dataset (CIFAR-10 has 10 classes), which is a preparataion for \"fine-tuning\"\n",
    "\n",
    "**nn.Linear(num_ftrs, 10):** Replaces the final layer with a new fully connected layer with 10 output features, corresponding to the 10 classes of the CIFAR-10 dataset. This modification tailors the model's output to our specific classification task.  \n",
    "\n",
    "**torch.device:** Determines the best available device for running the model. It uses a GPU (cuda:0) if one is available  \n",
    "\n",
    "**resnet.to(device):** Moves the model to the chosen device"
   ]
  },
  {
   "cell_type": "code",
   "execution_count": 4,
   "metadata": {
    "executionInfo": {
     "elapsed": 14,
     "status": "ok",
     "timestamp": 1707959858780,
     "user": {
      "displayName": "JYK109",
      "userId": "13605447512408491813"
     },
     "user_tz": 300
    },
    "id": "5Ctwr8vr_jTb"
   },
   "outputs": [],
   "source": [
    "import torchvision.models as models\n",
    "import torch.nn as nn\n",
    "import torch.optim as optim\n",
    "from torch.optim import lr_scheduler\n",
    "import torch.nn.functional as F\n",
    "import time\n",
    "import copy\n",
    "from tqdm import tqdm"
   ]
  },
  {
   "cell_type": "code",
   "execution_count": 5,
   "metadata": {
    "colab": {
     "base_uri": "https://localhost:8080/"
    },
    "executionInfo": {
     "elapsed": 903,
     "status": "ok",
     "timestamp": 1707959859670,
     "user": {
      "displayName": "JYK109",
      "userId": "13605447512408491813"
     },
     "user_tz": 300
    },
    "id": "Ogx8zB9dsw94",
    "outputId": "4e1cbbef-0c85-4b53-d0ff-c078bf8e0880"
   },
   "outputs": [
    {
     "name": "stderr",
     "output_type": "stream",
     "text": [
      "/opt/conda/lib/python3.10/site-packages/torchvision/models/_utils.py:208: UserWarning: The parameter 'pretrained' is deprecated since 0.13 and may be removed in the future, please use 'weights' instead.\n",
      "  warnings.warn(\n",
      "/opt/conda/lib/python3.10/site-packages/torchvision/models/_utils.py:223: UserWarning: Arguments other than a weight enum or `None` for 'weights' are deprecated since 0.13 and may be removed in the future. The current behavior is equivalent to passing `weights=ResNet18_Weights.IMAGENET1K_V1`. You can also use `weights=ResNet18_Weights.DEFAULT` to get the most up-to-date weights.\n",
      "  warnings.warn(msg)\n",
      "Downloading: \"https://download.pytorch.org/models/resnet18-f37072fd.pth\" to /root/.cache/torch/hub/checkpoints/resnet18-f37072fd.pth\n",
      "100%|██████████| 44.7M/44.7M [00:00<00:00, 96.1MB/s]\n"
     ]
    }
   ],
   "source": [
    "# Load a pre-trained ResNet model\n",
    "resnet = models.resnet18(pretrained=True)\n",
    "\n",
    "# Modify the final layer to match the number of CIFAR-10 classes (10)\n",
    "num_ftrs = resnet.fc.in_features\n",
    "resnet.fc = nn.Linear(num_ftrs, 10)\n",
    "\n",
    "# Move the model to the current device (GPU or CPU if GPU not exist)\n",
    "device = torch.device(\"cuda:0\" if torch.cuda.is_available() else \"cpu\")\n",
    "resnet = resnet.to(device)"
   ]
  },
  {
   "cell_type": "markdown",
   "metadata": {
    "id": "0oBmWpQRA6rQ"
   },
   "source": [
    "# 1-3. Training the Model"
   ]
  },
  {
   "cell_type": "code",
   "execution_count": 6,
   "metadata": {
    "colab": {
     "base_uri": "https://localhost:8080/"
    },
    "id": "we-FXfAJ_fjF",
    "outputId": "4540890e-efaa-4ccd-afb9-bad76f0e04b8"
   },
   "outputs": [
    {
     "name": "stdout",
     "output_type": "stream",
     "text": [
      "Epoch 1/10\n",
      "----------\n"
     ]
    },
    {
     "name": "stderr",
     "output_type": "stream",
     "text": [
      "Train Phase: 100%|██████████| 782/782 [02:04<00:00,  6.29it/s, accuracy=0.812, loss=0.506]\n"
     ]
    },
    {
     "name": "stdout",
     "output_type": "stream",
     "text": [
      "train Loss: 0.5397 Acc: 0.8259\n"
     ]
    },
    {
     "name": "stderr",
     "output_type": "stream",
     "text": [
      "Val Phase: 100%|██████████| 157/157 [00:21<00:00,  7.37it/s, accuracy=0.812, loss=0.333]\n"
     ]
    },
    {
     "name": "stdout",
     "output_type": "stream",
     "text": [
      "val Loss: 0.2580 Acc: 0.9116\n",
      "\n",
      "Epoch 2/10\n",
      "----------\n"
     ]
    },
    {
     "name": "stderr",
     "output_type": "stream",
     "text": [
      "Train Phase: 100%|██████████| 782/782 [02:01<00:00,  6.43it/s, accuracy=1, loss=0.192]     \n"
     ]
    },
    {
     "name": "stdout",
     "output_type": "stream",
     "text": [
      "train Loss: 0.1983 Acc: 0.9345\n"
     ]
    },
    {
     "name": "stderr",
     "output_type": "stream",
     "text": [
      "Val Phase: 100%|██████████| 157/157 [00:21<00:00,  7.46it/s, accuracy=0.812, loss=0.266] \n"
     ]
    },
    {
     "name": "stdout",
     "output_type": "stream",
     "text": [
      "val Loss: 0.2008 Acc: 0.9296\n",
      "\n",
      "Epoch 3/10\n",
      "----------\n"
     ]
    },
    {
     "name": "stderr",
     "output_type": "stream",
     "text": [
      "Train Phase: 100%|██████████| 782/782 [02:01<00:00,  6.42it/s, accuracy=0.875, loss=0.335] \n"
     ]
    },
    {
     "name": "stdout",
     "output_type": "stream",
     "text": [
      "train Loss: 0.1210 Acc: 0.9614\n"
     ]
    },
    {
     "name": "stderr",
     "output_type": "stream",
     "text": [
      "Val Phase: 100%|██████████| 157/157 [00:20<00:00,  7.53it/s, accuracy=0.875, loss=0.272] \n"
     ]
    },
    {
     "name": "stdout",
     "output_type": "stream",
     "text": [
      "val Loss: 0.1856 Acc: 0.9362\n",
      "\n",
      "Epoch 4/10\n",
      "----------\n"
     ]
    },
    {
     "name": "stderr",
     "output_type": "stream",
     "text": [
      "Train Phase: 100%|██████████| 782/782 [02:00<00:00,  6.48it/s, accuracy=0.875, loss=0.156] \n"
     ]
    },
    {
     "name": "stdout",
     "output_type": "stream",
     "text": [
      "train Loss: 0.0760 Acc: 0.9777\n"
     ]
    },
    {
     "name": "stderr",
     "output_type": "stream",
     "text": [
      "Val Phase: 100%|██████████| 157/157 [00:20<00:00,  7.51it/s, accuracy=0.875, loss=0.179] \n"
     ]
    },
    {
     "name": "stdout",
     "output_type": "stream",
     "text": [
      "val Loss: 0.1754 Acc: 0.9396\n",
      "\n",
      "Epoch 5/10\n",
      "----------\n"
     ]
    },
    {
     "name": "stderr",
     "output_type": "stream",
     "text": [
      "Train Phase: 100%|██████████| 782/782 [02:02<00:00,  6.40it/s, accuracy=0.875, loss=0.314] \n"
     ]
    },
    {
     "name": "stdout",
     "output_type": "stream",
     "text": [
      "train Loss: 0.0428 Acc: 0.9901\n"
     ]
    },
    {
     "name": "stderr",
     "output_type": "stream",
     "text": [
      "Val Phase: 100%|██████████| 157/157 [00:21<00:00,  7.42it/s, accuracy=0.875, loss=0.14]  \n"
     ]
    },
    {
     "name": "stdout",
     "output_type": "stream",
     "text": [
      "val Loss: 0.1834 Acc: 0.9407\n",
      "\n",
      "Epoch 6/10\n",
      "----------\n"
     ]
    },
    {
     "name": "stderr",
     "output_type": "stream",
     "text": [
      "Train Phase: 100%|██████████| 782/782 [02:02<00:00,  6.39it/s, accuracy=0.875, loss=0.324] \n"
     ]
    },
    {
     "name": "stdout",
     "output_type": "stream",
     "text": [
      "train Loss: 0.0282 Acc: 0.9949\n"
     ]
    },
    {
     "name": "stderr",
     "output_type": "stream",
     "text": [
      "Val Phase: 100%|██████████| 157/157 [00:21<00:00,  7.39it/s, accuracy=0.875, loss=0.202] \n"
     ]
    },
    {
     "name": "stdout",
     "output_type": "stream",
     "text": [
      "val Loss: 0.1866 Acc: 0.9406\n",
      "\n",
      "Epoch 7/10\n",
      "----------\n"
     ]
    },
    {
     "name": "stderr",
     "output_type": "stream",
     "text": [
      "Train Phase: 100%|██████████| 782/782 [02:01<00:00,  6.42it/s, accuracy=1, loss=0.0126]    \n"
     ]
    },
    {
     "name": "stdout",
     "output_type": "stream",
     "text": [
      "train Loss: 0.0190 Acc: 0.9973\n"
     ]
    },
    {
     "name": "stderr",
     "output_type": "stream",
     "text": [
      "Val Phase: 100%|██████████| 157/157 [00:21<00:00,  7.47it/s, accuracy=0.875, loss=0.203] \n"
     ]
    },
    {
     "name": "stdout",
     "output_type": "stream",
     "text": [
      "val Loss: 0.1851 Acc: 0.9415\n",
      "\n",
      "Epoch 8/10\n",
      "----------\n"
     ]
    },
    {
     "name": "stderr",
     "output_type": "stream",
     "text": [
      "Train Phase: 100%|██████████| 782/782 [02:01<00:00,  6.43it/s, accuracy=1, loss=0.0525]    \n"
     ]
    },
    {
     "name": "stdout",
     "output_type": "stream",
     "text": [
      "train Loss: 0.0120 Acc: 0.9989\n"
     ]
    },
    {
     "name": "stderr",
     "output_type": "stream",
     "text": [
      "Val Phase: 100%|██████████| 157/157 [00:20<00:00,  7.49it/s, accuracy=0.875, loss=0.201] \n"
     ]
    },
    {
     "name": "stdout",
     "output_type": "stream",
     "text": [
      "val Loss: 0.1833 Acc: 0.9425\n",
      "\n",
      "Epoch 9/10\n",
      "----------\n"
     ]
    },
    {
     "name": "stderr",
     "output_type": "stream",
     "text": [
      "Train Phase: 100%|██████████| 782/782 [02:00<00:00,  6.49it/s, accuracy=1, loss=0.008]     \n"
     ]
    },
    {
     "name": "stdout",
     "output_type": "stream",
     "text": [
      "train Loss: 0.0110 Acc: 0.9991\n"
     ]
    },
    {
     "name": "stderr",
     "output_type": "stream",
     "text": [
      "Val Phase: 100%|██████████| 157/157 [00:20<00:00,  7.53it/s, accuracy=0.875, loss=0.181] \n"
     ]
    },
    {
     "name": "stdout",
     "output_type": "stream",
     "text": [
      "val Loss: 0.1838 Acc: 0.9412\n",
      "\n",
      "Epoch 10/10\n",
      "----------\n"
     ]
    },
    {
     "name": "stderr",
     "output_type": "stream",
     "text": [
      "Train Phase: 100%|██████████| 782/782 [02:00<00:00,  6.48it/s, accuracy=1, loss=0.0438]    \n"
     ]
    },
    {
     "name": "stdout",
     "output_type": "stream",
     "text": [
      "train Loss: 0.0109 Acc: 0.9991\n"
     ]
    },
    {
     "name": "stderr",
     "output_type": "stream",
     "text": [
      "Val Phase: 100%|██████████| 157/157 [00:21<00:00,  7.43it/s, accuracy=0.875, loss=0.195] "
     ]
    },
    {
     "name": "stdout",
     "output_type": "stream",
     "text": [
      "val Loss: 0.1871 Acc: 0.9419\n",
      "\n",
      "Training complete in 23m 48s\n",
      "Best val Acc: 0.942500\n"
     ]
    },
    {
     "name": "stderr",
     "output_type": "stream",
     "text": [
      "\n"
     ]
    }
   ],
   "source": [
    "# Loss Function\n",
    "criterion = nn.CrossEntropyLoss()\n",
    "\n",
    "# Optimizer (fine-tune the whole model)\n",
    "optimizer = optim.SGD(resnet.parameters(), lr=0.001, momentum=0.9)\n",
    "\n",
    "# Learning rate scheduler (optional)\n",
    "step_lr_scheduler = lr_scheduler.StepLR(optimizer, step_size=7, gamma=0.1)\n",
    "\n",
    "# Function to train and evaluate the model\n",
    "def train_model(model, criterion, optimizer, scheduler, trainloader, testloader, num_epochs=10):\n",
    "    since = time.time()\n",
    "\n",
    "    best_model_wts = copy.deepcopy(model.state_dict())\n",
    "    best_acc = 0.0\n",
    "\n",
    "    for epoch in range(num_epochs):\n",
    "        print(f'Epoch {epoch+1}/{num_epochs}')\n",
    "        print('-' * 10)\n",
    "\n",
    "        dataloaders = {'train': trainloader, 'val': testloader}\n",
    "\n",
    "        for phase in ['train', 'val']:\n",
    "            if phase == 'train':\n",
    "                model.train()  # Set model to training mode\n",
    "            else:\n",
    "                model.eval()   # Set model to evaluate mode\n",
    "\n",
    "            running_loss = 0.0\n",
    "            running_corrects = 0\n",
    "\n",
    "            # Use tqdm for the progress bar\n",
    "            data_iter = tqdm(dataloaders[phase], desc=f'{phase.capitalize()} Phase')\n",
    "\n",
    "            for inputs, labels in data_iter:\n",
    "                inputs = inputs.to(device)\n",
    "                labels = labels.to(device)\n",
    "\n",
    "                optimizer.zero_grad()\n",
    "\n",
    "                with torch.set_grad_enabled(phase == 'train'):\n",
    "                    outputs = model(inputs)\n",
    "                    _, preds = torch.max(outputs, 1)\n",
    "                    loss = criterion(outputs, labels)\n",
    "\n",
    "                    if phase == 'train':\n",
    "                        loss.backward()\n",
    "                        optimizer.step()\n",
    "\n",
    "                running_loss += loss.item() * inputs.size(0)\n",
    "                running_corrects += torch.sum(preds == labels.data)\n",
    "\n",
    "                # Optionally, update the progress bar with current batch loss\n",
    "                data_iter.set_postfix(loss=loss.item(), accuracy=torch.sum(preds == labels.data).item() / inputs.size(0))\n",
    "\n",
    "            if phase == 'train':\n",
    "                scheduler.step()\n",
    "\n",
    "            epoch_loss = running_loss / len(dataloaders[phase].dataset)\n",
    "            epoch_acc = running_corrects.double() / len(dataloaders[phase].dataset)\n",
    "\n",
    "            print(f'{phase} Loss: {epoch_loss:.4f} Acc: {epoch_acc:.4f}')\n",
    "\n",
    "            if phase == 'val' and epoch_acc > best_acc:\n",
    "                best_acc = epoch_acc\n",
    "                best_model_wts = copy.deepcopy(model.state_dict())\n",
    "\n",
    "        print()\n",
    "\n",
    "    time_elapsed = time.time() - since\n",
    "    print(f'Training complete in {time_elapsed // 60:.0f}m {time_elapsed % 60:.0f}s')\n",
    "    print(f'Best val Acc: {best_acc:4f}')\n",
    "\n",
    "    model.load_state_dict(best_model_wts)\n",
    "    return model\n",
    "\n",
    "\n",
    "# Fine-tune the model\n",
    "resnet = train_model(resnet, criterion, optimizer, step_lr_scheduler, trainloader, testloader, num_epochs=10)"
   ]
  },
  {
   "cell_type": "markdown",
   "metadata": {
    "id": "fd97wBcJ7d8K"
   },
   "source": [
    "# 1-4. Evaluate Model by Utilizing Test Dataloader and Collecting its Model Prediction Data"
   ]
  },
  {
   "cell_type": "code",
   "execution_count": 7,
   "metadata": {
    "id": "FKG4UKTksxAU"
   },
   "outputs": [],
   "source": [
    "from sklearn.metrics import confusion_matrix\n",
    "import numpy as np\n",
    "import seaborn as sns\n",
    "import matplotlib.pyplot as plt\n",
    "\n",
    "# Evaluation mode\n",
    "resnet.eval()\n",
    "\n",
    "# No gradient needed for evaluation\n",
    "with torch.no_grad():\n",
    "    all_preds = []\n",
    "    all_labels = []\n",
    "    for images, labels in testloader:\n",
    "        images, labels = images.to(device), labels.to(device)\n",
    "        outputs = resnet(images)\n",
    "        _, predicted = torch.max(outputs, 1)\n",
    "        all_preds.extend(predicted.cpu().numpy())\n",
    "        all_labels.extend(labels.cpu().numpy())"
   ]
  },
  {
   "cell_type": "markdown",
   "metadata": {
    "id": "ea9VEw1F9H3z"
   },
   "source": [
    "# 1-5. Create Standard Confusion Matrix from the Prediction Data\n",
    "This is the basic confusion matrix format we reviewed in the documentation."
   ]
  },
  {
   "cell_type": "code",
   "execution_count": 8,
   "metadata": {
    "id": "9RKAyoyfsxDD"
   },
   "outputs": [
    {
     "data": {
      "image/png": "[encoded data removed]",
      "text/plain": [
       "<Figure size 640x480 with 2 Axes>"
      ]
     },
     "metadata": {},
     "output_type": "display_data"
    }
   ],
   "source": [
    "# Standard Confusion Matrix\n",
    "cm = confusion_matrix(all_labels, all_preds)\n",
    "sns.heatmap(cm, annot=True, fmt='d')\n",
    "plt.show()"
   ]
  },
  {
   "cell_type": "markdown",
   "metadata": {
    "id": "pGlYGha19IJC"
   },
   "source": [
    "# 1-6. Normalized Confusion Matrix\n",
    "***Why Normalized?***  \n",
    "Using a normalized confusion matrix offers significant advantages over the standard format particularly in handling imbalanced datasets and enhancing interpretability.\n",
    "\n",
    "\n",
    "*   By converting raw counts into proportions or percentages, it facilitates direct comparison across classes with varying sizes, making it **easier to measure a classifier's performance uniformly**.\n",
    "\n",
    "*   crucial for revealing the true performance across all classes, especially when raw counts might obscure the model's effectiveness on smaller classes due to dominance by larger ones\n",
    "\n",
    "*   **simplifies the representation**, making it more accessible for interpretation and highlighting potential model biases towards certain classes.\n",
    "\n",
    "*   **ensures consistency when comparing models or results across different datasets** and improves visual clarity in heatmaps by standardizing the scale from 0 to 1 (or 0% to 100%)\n",
    "\n",
    "*   aids in understanding the rate of correct and incorrect predictions more clearly but also in identifying and addressing issues related to **class imbalance** and model biases effectively.\n",
    "\n"
   ]
  },
  {
   "cell_type": "code",
   "execution_count": 9,
   "metadata": {
    "id": "h_Seue4asxFH"
   },
   "outputs": [
    {
     "data": {
      "image/png": "[encoded data removed]",
      "text/plain": [
       "<Figure size 640x480 with 2 Axes>"
      ]
     },
     "metadata": {},
     "output_type": "display_data"
    }
   ],
   "source": [
    "# Normalized Confusion Matrix\n",
    "cm_normalized = confusion_matrix(all_labels, all_preds, normalize='true')\n",
    "sns.heatmap(cm_normalized, annot=True)\n",
    "plt.show()"
   ]
  },
  {
   "cell_type": "markdown",
   "metadata": {
    "id": "9fA5KjdCAd4G"
   },
   "source": [
    "# 2-1. How an Imbalanced Dataset Affects Predictions and the Confusion Matrix\n",
    "\n",
    "This time, we will deliberately truncate data instances in certain classes of the CIFAR dataset to create an imbalanced dataset. Our objective is to observe how this imbalance affects the results of model predictions and, consequently, alters the confusion matrix."
   ]
  },
  {
   "cell_type": "code",
   "execution_count": 11,
   "metadata": {
    "id": "29HCzc2RAbgl"
   },
   "outputs": [
    {
     "name": "stdout",
     "output_type": "stream",
     "text": [
      "Files already downloaded and verified\n"
     ]
    }
   ],
   "source": [
    "# Define transformations\n",
    "transform = transforms.Compose([\n",
    "    transforms.Resize(256),\n",
    "    transforms.CenterCrop(224),\n",
    "    transforms.ToTensor(),\n",
    "    transforms.Normalize(mean=[0.485, 0.456, 0.406], std=[0.229, 0.224, 0.225]),\n",
    "])\n",
    "\n",
    "# Load the original CIFAR-10 datasets\n",
    "full_trainset = torchvision.datasets.CIFAR10(root='./data', train=True, download=True, transform=transform)"
   ]
  },
  {
   "cell_type": "markdown",
   "metadata": {
    "id": "EEU-8FqyIzfh"
   },
   "source": [
    "# 2-2. Truncate data instances of certain classes (1, 3, 5) by 90%"
   ]
  },
  {
   "cell_type": "code",
   "execution_count": 12,
   "metadata": {
    "id": "zbm3E2aSsxHK"
   },
   "outputs": [
    {
     "name": "stdout",
     "output_type": "stream",
     "text": [
      "Original dataset size: 50000, Imbalanced dataset size: 36500\n"
     ]
    }
   ],
   "source": [
    "import numpy as np\n",
    "from torch.utils.data import Subset\n",
    "\n",
    "def create_imbalanced_dataset(dataset, reduce_classes, reduce_by):\n",
    "    targets = np.array(dataset.targets)\n",
    "    indices_to_keep = []\n",
    "\n",
    "    for class_idx in range(10):  # CIFAR-10 has 10 classes\n",
    "        indices = np.where(targets == class_idx)[0]\n",
    "        if class_idx in reduce_classes:\n",
    "            reduce_size = int(len(indices) * reduce_by)\n",
    "            indices_to_keep.extend(indices[:reduce_size])\n",
    "        else:\n",
    "            indices_to_keep.extend(indices)\n",
    "\n",
    "    imbalanced_subset = Subset(dataset, indices_to_keep)\n",
    "    return imbalanced_subset\n",
    "\n",
    "# Reduce classes 1, 3, and 5 by 90%\n",
    "reduce_classes = [1, 3, 5]\n",
    "reduce_by = 0.1  # Keep only 10% of the samples in the reduced classes\n",
    "\n",
    "imbalanced_trainset = create_imbalanced_dataset(full_trainset, reduce_classes, reduce_by)\n",
    "print(f\"Original dataset size: {len(full_trainset)}, Imbalanced dataset size: {len(imbalanced_trainset)}\")\n"
   ]
  },
  {
   "cell_type": "markdown",
   "metadata": {
    "id": "eHJuwPXfJlNN"
   },
   "source": [
    "# 2-3. Load the Imbalanced Dataset into Dataloader Once again"
   ]
  },
  {
   "cell_type": "code",
   "execution_count": 13,
   "metadata": {
    "id": "yc84sVirsxJN"
   },
   "outputs": [],
   "source": [
    "from torch.utils.data import DataLoader\n",
    "\n",
    "imbalanced_trainloader = DataLoader(imbalanced_trainset, batch_size=64, shuffle=True)"
   ]
  },
  {
   "cell_type": "markdown",
   "metadata": {
    "id": "WybCGzD8Jl4r"
   },
   "source": [
    "# 2-4. Same Training Process"
   ]
  },
  {
   "cell_type": "code",
   "execution_count": 14,
   "metadata": {
    "id": "Hk_kbpRyKX8g"
   },
   "outputs": [
    {
     "name": "stderr",
     "output_type": "stream",
     "text": [
      "/opt/conda/lib/python3.10/site-packages/torchvision/models/_utils.py:208: UserWarning: The parameter 'pretrained' is deprecated since 0.13 and may be removed in the future, please use 'weights' instead.\n",
      "  warnings.warn(\n",
      "/opt/conda/lib/python3.10/site-packages/torchvision/models/_utils.py:223: UserWarning: Arguments other than a weight enum or `None` for 'weights' are deprecated since 0.13 and may be removed in the future. The current behavior is equivalent to passing `weights=ResNet18_Weights.IMAGENET1K_V1`. You can also use `weights=ResNet18_Weights.DEFAULT` to get the most up-to-date weights.\n",
      "  warnings.warn(msg)\n"
     ]
    }
   ],
   "source": [
    "# Load a pre-trained ResNet model\n",
    "resnet_imb = models.resnet18(pretrained=True)\n",
    "\n",
    "# Modify the final layer to match the number of CIFAR-10 classes (10)\n",
    "num_ftrs = resnet_imb.fc.in_features\n",
    "resnet_imb.fc = nn.Linear(num_ftrs, 10)\n",
    "\n",
    "# Move the model to the current device (GPU or CPU if GPU not exist)\n",
    "device = torch.device(\"cuda:0\" if torch.cuda.is_available() else \"cpu\")\n",
    "resnet_imb = resnet_imb.to(device)"
   ]
  },
  {
   "cell_type": "code",
   "execution_count": 15,
   "metadata": {
    "id": "7J3oewLCsxK_"
   },
   "outputs": [
    {
     "name": "stdout",
     "output_type": "stream",
     "text": [
      "Epoch 1/10\n",
      "----------\n"
     ]
    },
    {
     "name": "stderr",
     "output_type": "stream",
     "text": [
      "Train Phase: 100%|██████████| 571/571 [01:29<00:00,  6.41it/s, accuracy=0.9, loss=0.249]  \n"
     ]
    },
    {
     "name": "stdout",
     "output_type": "stream",
     "text": [
      "train Loss: 0.5409 Acc: 0.8301\n"
     ]
    },
    {
     "name": "stderr",
     "output_type": "stream",
     "text": [
      "Val Phase: 100%|██████████| 157/157 [00:20<00:00,  7.49it/s, accuracy=0.75, loss=0.748] \n"
     ]
    },
    {
     "name": "stdout",
     "output_type": "stream",
     "text": [
      "val Loss: 0.5171 Acc: 0.8193\n",
      "\n",
      "Epoch 2/10\n",
      "----------\n"
     ]
    },
    {
     "name": "stderr",
     "output_type": "stream",
     "text": [
      "Train Phase: 100%|██████████| 571/571 [01:28<00:00,  6.46it/s, accuracy=0.9, loss=0.236]   \n"
     ]
    },
    {
     "name": "stdout",
     "output_type": "stream",
     "text": [
      "train Loss: 0.1854 Acc: 0.9413\n"
     ]
    },
    {
     "name": "stderr",
     "output_type": "stream",
     "text": [
      "Val Phase: 100%|██████████| 157/157 [00:20<00:00,  7.53it/s, accuracy=0.875, loss=0.387]\n"
     ]
    },
    {
     "name": "stdout",
     "output_type": "stream",
     "text": [
      "val Loss: 0.3621 Acc: 0.8763\n",
      "\n",
      "Epoch 3/10\n",
      "----------\n"
     ]
    },
    {
     "name": "stderr",
     "output_type": "stream",
     "text": [
      "Train Phase: 100%|██████████| 571/571 [01:27<00:00,  6.51it/s, accuracy=0.95, loss=0.184]  \n"
     ]
    },
    {
     "name": "stdout",
     "output_type": "stream",
     "text": [
      "train Loss: 0.1062 Acc: 0.9687\n"
     ]
    },
    {
     "name": "stderr",
     "output_type": "stream",
     "text": [
      "Val Phase: 100%|██████████| 157/157 [00:20<00:00,  7.54it/s, accuracy=0.875, loss=0.236]\n"
     ]
    },
    {
     "name": "stdout",
     "output_type": "stream",
     "text": [
      "val Loss: 0.3169 Acc: 0.8917\n",
      "\n",
      "Epoch 4/10\n",
      "----------\n"
     ]
    },
    {
     "name": "stderr",
     "output_type": "stream",
     "text": [
      "Train Phase: 100%|██████████| 571/571 [01:27<00:00,  6.50it/s, accuracy=1, loss=0.0302]    \n"
     ]
    },
    {
     "name": "stdout",
     "output_type": "stream",
     "text": [
      "train Loss: 0.0658 Acc: 0.9821\n"
     ]
    },
    {
     "name": "stderr",
     "output_type": "stream",
     "text": [
      "Val Phase: 100%|██████████| 157/157 [00:20<00:00,  7.55it/s, accuracy=0.875, loss=0.204] \n"
     ]
    },
    {
     "name": "stdout",
     "output_type": "stream",
     "text": [
      "val Loss: 0.2797 Acc: 0.9040\n",
      "\n",
      "Epoch 5/10\n",
      "----------\n"
     ]
    },
    {
     "name": "stderr",
     "output_type": "stream",
     "text": [
      "Train Phase: 100%|██████████| 571/571 [01:28<00:00,  6.49it/s, accuracy=1, loss=0.0519]    \n"
     ]
    },
    {
     "name": "stdout",
     "output_type": "stream",
     "text": [
      "train Loss: 0.0409 Acc: 0.9908\n"
     ]
    },
    {
     "name": "stderr",
     "output_type": "stream",
     "text": [
      "Val Phase: 100%|██████████| 157/157 [00:20<00:00,  7.55it/s, accuracy=0.938, loss=0.132] \n"
     ]
    },
    {
     "name": "stdout",
     "output_type": "stream",
     "text": [
      "val Loss: 0.2817 Acc: 0.9074\n",
      "\n",
      "Epoch 6/10\n",
      "----------\n"
     ]
    },
    {
     "name": "stderr",
     "output_type": "stream",
     "text": [
      "Train Phase: 100%|██████████| 571/571 [01:28<00:00,  6.45it/s, accuracy=0.95, loss=0.178]  \n"
     ]
    },
    {
     "name": "stdout",
     "output_type": "stream",
     "text": [
      "train Loss: 0.0275 Acc: 0.9948\n"
     ]
    },
    {
     "name": "stderr",
     "output_type": "stream",
     "text": [
      "Val Phase: 100%|██████████| 157/157 [00:21<00:00,  7.42it/s, accuracy=0.938, loss=0.156]\n"
     ]
    },
    {
     "name": "stdout",
     "output_type": "stream",
     "text": [
      "val Loss: 0.2983 Acc: 0.9050\n",
      "\n",
      "Epoch 7/10\n",
      "----------\n"
     ]
    },
    {
     "name": "stderr",
     "output_type": "stream",
     "text": [
      "Train Phase: 100%|██████████| 571/571 [01:28<00:00,  6.43it/s, accuracy=0.95, loss=0.0686] \n"
     ]
    },
    {
     "name": "stdout",
     "output_type": "stream",
     "text": [
      "train Loss: 0.0198 Acc: 0.9971\n"
     ]
    },
    {
     "name": "stderr",
     "output_type": "stream",
     "text": [
      "Val Phase: 100%|██████████| 157/157 [00:20<00:00,  7.49it/s, accuracy=0.875, loss=0.176] \n"
     ]
    },
    {
     "name": "stdout",
     "output_type": "stream",
     "text": [
      "val Loss: 0.3154 Acc: 0.9044\n",
      "\n",
      "Epoch 8/10\n",
      "----------\n"
     ]
    },
    {
     "name": "stderr",
     "output_type": "stream",
     "text": [
      "Train Phase: 100%|██████████| 571/571 [01:28<00:00,  6.46it/s, accuracy=1, loss=0.0158]    \n"
     ]
    },
    {
     "name": "stdout",
     "output_type": "stream",
     "text": [
      "train Loss: 0.0126 Acc: 0.9990\n"
     ]
    },
    {
     "name": "stderr",
     "output_type": "stream",
     "text": [
      "Val Phase: 100%|██████████| 157/157 [00:20<00:00,  7.54it/s, accuracy=0.875, loss=0.13]  \n"
     ]
    },
    {
     "name": "stdout",
     "output_type": "stream",
     "text": [
      "val Loss: 0.2950 Acc: 0.9090\n",
      "\n",
      "Epoch 9/10\n",
      "----------\n"
     ]
    },
    {
     "name": "stderr",
     "output_type": "stream",
     "text": [
      "Train Phase: 100%|██████████| 571/571 [01:28<00:00,  6.46it/s, accuracy=0.9, loss=0.0973]  \n"
     ]
    },
    {
     "name": "stdout",
     "output_type": "stream",
     "text": [
      "train Loss: 0.0118 Acc: 0.9992\n"
     ]
    },
    {
     "name": "stderr",
     "output_type": "stream",
     "text": [
      "Val Phase: 100%|██████████| 157/157 [00:20<00:00,  7.57it/s, accuracy=0.938, loss=0.117] \n"
     ]
    },
    {
     "name": "stdout",
     "output_type": "stream",
     "text": [
      "val Loss: 0.2958 Acc: 0.9082\n",
      "\n",
      "Epoch 10/10\n",
      "----------\n"
     ]
    },
    {
     "name": "stderr",
     "output_type": "stream",
     "text": [
      "Train Phase: 100%|██████████| 571/571 [01:27<00:00,  6.51it/s, accuracy=1, loss=0.0286]    \n"
     ]
    },
    {
     "name": "stdout",
     "output_type": "stream",
     "text": [
      "train Loss: 0.0117 Acc: 0.9990\n"
     ]
    },
    {
     "name": "stderr",
     "output_type": "stream",
     "text": [
      "Val Phase: 100%|██████████| 157/157 [00:20<00:00,  7.53it/s, accuracy=0.938, loss=0.1]   \n"
     ]
    },
    {
     "name": "stdout",
     "output_type": "stream",
     "text": [
      "val Loss: 0.2930 Acc: 0.9093\n",
      "\n",
      "Training complete in 18m 12s\n",
      "Best val Acc: 0.909300\n"
     ]
    }
   ],
   "source": [
    "# Loss Function\n",
    "criterion = nn.CrossEntropyLoss()\n",
    "\n",
    "# Optimizer (fine-tune the whole model)\n",
    "optimizer_imb = optim.SGD(resnet_imb.parameters(), lr=0.001, momentum=0.9)\n",
    "\n",
    "# Learning rate scheduler (optional)\n",
    "step_lr_scheduler_imb = lr_scheduler.StepLR(optimizer_imb, step_size=7, gamma=0.1)\n",
    "\n",
    "# Fine-tune the model\n",
    "resnet_imb = train_model(resnet_imb, criterion, optimizer_imb, step_lr_scheduler_imb, imbalanced_trainloader, testloader, num_epochs=10)"
   ]
  },
  {
   "cell_type": "markdown",
   "metadata": {
    "id": "u5LfY6pJKF4j"
   },
   "source": [
    "# 2-5. Evaluate Model"
   ]
  },
  {
   "cell_type": "code",
   "execution_count": 16,
   "metadata": {
    "id": "sgLSDefPKGMx"
   },
   "outputs": [],
   "source": [
    "# Evaluation mode\n",
    "resnet_imb.eval()\n",
    "\n",
    "# No gradient needed for evaluation\n",
    "with torch.no_grad():\n",
    "    all_preds = []\n",
    "    all_labels = []\n",
    "    for images, labels in testloader:\n",
    "        images, labels = images.to(device), labels.to(device)\n",
    "        outputs = resnet_imb(images)\n",
    "        _, predicted = torch.max(outputs, 1)\n",
    "        all_preds.extend(predicted.cpu().numpy())\n",
    "        all_labels.extend(labels.cpu().numpy())"
   ]
  },
  {
   "cell_type": "markdown",
   "metadata": {
    "id": "acnrvv4sKGad"
   },
   "source": [
    "# 2-6. Standard Confusion Matrix"
   ]
  },
  {
   "cell_type": "code",
   "execution_count": 17,
   "metadata": {
    "id": "XvFeKbGsKGx0"
   },
   "outputs": [
    {
     "data": {
      "image/png": "[encoded data removed]",
      "text/plain": [
       "<Figure size 640x480 with 2 Axes>"
      ]
     },
     "metadata": {},
     "output_type": "display_data"
    }
   ],
   "source": [
    "# Standard Confusion Matrix\n",
    "cm = confusion_matrix(all_labels, all_preds)\n",
    "sns.heatmap(cm, annot=True, fmt='d')\n",
    "plt.show()"
   ]
  },
  {
   "cell_type": "markdown",
   "metadata": {
    "id": "MkX6dKLzOELL"
   },
   "source": [
    "# 2-7. Normalized Confusion Matrix"
   ]
  },
  {
   "cell_type": "code",
   "execution_count": 18,
   "metadata": {
    "id": "1GETzBk0OEev"
   },
   "outputs": [
    {
     "data": {
      "image/png": "[encoded data removed]",
      "text/plain": [
       "<Figure size 640x480 with 2 Axes>"
      ]
     },
     "metadata": {},
     "output_type": "display_data"
    }
   ],
   "source": [
    "# Normalized Confusion Matrix\n",
    "cm_normalized = confusion_matrix(all_labels, all_preds, normalize='true')\n",
    "sns.heatmap(cm_normalized, annot=True)\n",
    "plt.show()"
   ]
  },
  {
   "cell_type": "code",
   "execution_count": null,
   "metadata": {},
   "outputs": [],
   "source": []
  }
 ],
 "metadata": {
  "colab": {
   "authorship_tag": "ABX9TyOR3942DMJBNIcdxL7PccfE",
   "provenance": [
    {
     "file_id": "https://github.com/jinyoonok2/documentation_sample/blob/main/confusion_matrix_sample.ipynb",
     "timestamp": 1707954057419
    }
   ]
  },
  "kernelspec": {
   "display_name": "Python 3 (ipykernel)",
   "language": "python",
   "name": "python3"
  },
  "language_info": {
   "codemirror_mode": {
    "name": "ipython",
    "version": 3
   },
   "file_extension": ".py",
   "mimetype": "text/x-python",
   "name": "python",
   "nbconvert_exporter": "python",
   "pygments_lexer": "ipython3",
   "version": "3.10.13"
  }
 },
 "nbformat": 4,
 "nbformat_minor": 4
}
